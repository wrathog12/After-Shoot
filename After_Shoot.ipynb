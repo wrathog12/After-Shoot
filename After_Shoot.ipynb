{
  "nbformat": 4,
  "nbformat_minor": 0,
  "metadata": {
    "colab": {
      "provenance": [],
      "gpuType": "T4"
    },
    "kernelspec": {
      "name": "python3",
      "display_name": "Python 3"
    },
    "language_info": {
      "name": "python"
    },
    "accelerator": "GPU"
  },
  "cells": [
    {
      "cell_type": "markdown",
      "source": [
        "Building the Arhitecture for U-net"
      ],
      "metadata": {
        "id": "wzdXEmvAGLx7"
      }
    },
    {
      "cell_type": "code",
      "execution_count": 15,
      "metadata": {
        "id": "CMAJYhcA-Gj9"
      },
      "outputs": [],
      "source": [
        "import torch\n",
        "import torch.nn as nn"
      ]
    },
    {
      "cell_type": "code",
      "source": [
        "class DoubleConv(nn.Module):\n",
        "    \"\"\"(convolution => [BN] => ReLU) * 2\"\"\"\n",
        "    def __init__(self, in_channels, out_channels):\n",
        "        super().__init__()\n",
        "        self.double_conv = nn.Sequential(\n",
        "            nn.Conv2d(in_channels, out_channels, kernel_size=3, padding=1),\n",
        "            nn.BatchNorm2d(out_channels),\n",
        "            nn.ReLU(inplace=True),\n",
        "            nn.Conv2d(out_channels, out_channels, kernel_size=3, padding=1),\n",
        "            nn.BatchNorm2d(out_channels),\n",
        "            nn.ReLU(inplace=True)\n",
        "        )\n",
        "\n",
        "    def forward(self, x):\n",
        "        return self.double_conv(x)"
      ],
      "metadata": {
        "id": "YgBPn9wHGKmS"
      },
      "execution_count": 16,
      "outputs": []
    },
    {
      "cell_type": "code",
      "source": [
        "class UNET(nn.Module):\n",
        "    def __init__(self, in_channels=3, out_channels=1):\n",
        "        super(UNET, self).__init__()\n",
        "\n",
        "        # Encoder (Downsampling path)\n",
        "        self.inc = DoubleConv(in_channels, 64)\n",
        "        self.down1 = nn.MaxPool2d(2)\n",
        "        self.conv1 = DoubleConv(64, 128)\n",
        "        self.down2 = nn.MaxPool2d(2)\n",
        "        self.conv2 = DoubleConv(128, 256)\n",
        "        self.down3 = nn.MaxPool2d(2)\n",
        "        self.conv3 = DoubleConv(256, 512)\n",
        "        self.down4 = nn.MaxPool2d(2)\n",
        "        self.conv4 = DoubleConv(512, 1024)\n",
        "\n",
        "        # Decoder (Upsampling path)\n",
        "        self.up1 = nn.ConvTranspose2d(1024, 512, kernel_size=2, stride=2)\n",
        "        self.upconv1 = DoubleConv(1024, 512)\n",
        "        self.up2 = nn.ConvTranspose2d(512, 256, kernel_size=2, stride=2)\n",
        "        self.upconv2 = DoubleConv(512, 256)\n",
        "        self.up3 = nn.ConvTranspose2d(256, 128, kernel_size=2, stride=2)\n",
        "        self.upconv3 = DoubleConv(256, 128)\n",
        "        self.up4 = nn.ConvTranspose2d(128, 64, kernel_size=2, stride=2)\n",
        "        self.upconv4 = DoubleConv(128, 64)\n",
        "\n",
        "        # Output layer\n",
        "        self.outc = nn.Conv2d(64, out_channels, kernel_size=1)\n",
        "\n",
        "    def forward(self, x):\n",
        "        # Encoder\n",
        "        x1 = self.inc(x)\n",
        "        x2 = self.down1(x1)\n",
        "        x2 = self.conv1(x2)\n",
        "        x3 = self.down2(x2)\n",
        "        x3 = self.conv2(x3)\n",
        "        x4 = self.down3(x3)\n",
        "        x4 = self.conv3(x4)\n",
        "        x5 = self.down4(x4)\n",
        "        x5 = self.conv4(x5)\n",
        "\n",
        "        # Decoder with skip connections\n",
        "        u1 = self.up1(x5)\n",
        "        u1 = torch.cat([u1, x4], dim=1) # Concatenate skip connection\n",
        "        u1 = self.upconv1(u1)\n",
        "\n",
        "        u2 = self.up2(u1)\n",
        "        u2 = torch.cat([u2, x3], dim=1)\n",
        "        u2 = self.upconv2(u2)\n",
        "\n",
        "        u3 = self.up3(u2)\n",
        "        u3 = torch.cat([u3, x2], dim=1)\n",
        "        u3 = self.upconv3(u3)\n",
        "\n",
        "        u4 = self.up4(u3)\n",
        "        u4 = torch.cat([u4, x1], dim=1)\n",
        "        u4 = self.upconv4(u4)\n",
        "\n",
        "        logits = self.outc(u4)\n",
        "        return logits"
      ],
      "metadata": {
        "id": "gOxiPWzxGTT6"
      },
      "execution_count": 17,
      "outputs": []
    },
    {
      "cell_type": "markdown",
      "source": [
        "###Actually making Pipeline to load the dataset from the Drive"
      ],
      "metadata": {
        "id": "La9FlIFUGb4G"
      }
    },
    {
      "cell_type": "code",
      "source": [
        "!pip install -q albumentations"
      ],
      "metadata": {
        "id": "DxsvbfAuGjaX"
      },
      "execution_count": 18,
      "outputs": []
    },
    {
      "cell_type": "code",
      "source": [
        "import albumentations as A\n",
        "from albumentations.pytorch import ToTensorV2\n",
        "from torch.utils.data import DataLoader\n",
        "from PIL import Image\n",
        "import numpy as np\n",
        "import os\n",
        "from torch.utils.data import Dataset"
      ],
      "metadata": {
        "id": "7pszeUyoGopR"
      },
      "execution_count": 19,
      "outputs": []
    },
    {
      "cell_type": "code",
      "source": [
        "class TeethDataset(Dataset):\n",
        "    def __init__(self, image_dir, mask_dir, transform=None):\n",
        "        self.image_dir = image_dir\n",
        "        self.mask_dir = mask_dir\n",
        "        self.transform = transform\n",
        "        self.images = [f for f in os.listdir(image_dir) if f.endswith('.jpg')]\n",
        "\n",
        "    def __len__(self):\n",
        "        return len(self.images)\n",
        "\n",
        "    def __getitem__(self, index):\n",
        "        img_path = os.path.join(self.image_dir, self.images[index])\n",
        "        mask_filename = self.images[index].replace('.jpg.rf.', '_jpg.rf.') + '.png'\n",
        "        mask_path = os.path.join(self.mask_dir, mask_filename)\n",
        "\n",
        "        image = np.array(Image.open(img_path).convert(\"RGB\"))\n",
        "        mask = np.array(Image.open(mask_path).convert(\"L\"), dtype=np.float32)\n",
        "        mask[mask == 255.0] = 1.0 # Normalize to 0.0 and 1.0\n",
        "\n",
        "        if self.transform is not None:\n",
        "            augmentations = self.transform(image=image, mask=mask)\n",
        "            image = augmentations[\"image\"]\n",
        "            mask = augmentations[\"mask\"].unsqueeze(0) # Add channel dimension\n",
        "\n",
        "        return image, mask\n",
        "\n",
        "# DRIVE_PATH = \"/content/drive/MyDrive/AI Teeth\"\n",
        "TRAIN_IMG_DIR =  \"/content/Dentalai/train/img\"\n",
        "TRAIN_MASK_DIR = \"/content/processed_dataset/train_masks\"\n",
        "VAL_IMG_DIR = \"/content/Dentalai/valid/img\"\n",
        "VAL_MASK_DIR = \"/content/processed_dataset/valid_masks\"\n",
        "\n",
        "IMAGE_HEIGHT = 256\n",
        "IMAGE_WIDTH = 256\n",
        "BATCH_SIZE = 8\n",
        "\n",
        "# Define transformations\n",
        "train_transform = A.Compose([\n",
        "    A.Resize(height=IMAGE_HEIGHT, width=IMAGE_WIDTH),\n",
        "    A.Rotate(limit=35, p=1.0),\n",
        "    A.HorizontalFlip(p=0.5),\n",
        "    A.VerticalFlip(p=0.1),\n",
        "    A.Normalize(\n",
        "        mean=[0.0, 0.0, 0.0],\n",
        "        std=[1.0, 1.0, 1.0],\n",
        "        max_pixel_value=255.0,\n",
        "    ),\n",
        "    ToTensorV2(),\n",
        "])\n",
        "\n",
        "val_transform = A.Compose([\n",
        "    A.Resize(height=IMAGE_HEIGHT, width=IMAGE_WIDTH),\n",
        "    A.Normalize(\n",
        "        mean=[0.0, 0.0, 0.0],\n",
        "        std=[1.0, 1.0, 1.0],\n",
        "        max_pixel_value=255.0,\n",
        "    ),\n",
        "    ToTensorV2(),\n",
        "])\n",
        "\n",
        "# Create datasets and dataloaders\n",
        "train_ds = TeethDataset(TRAIN_IMG_DIR, TRAIN_MASK_DIR, transform=train_transform)\n",
        "train_loader = DataLoader(train_ds, batch_size=BATCH_SIZE, shuffle=True)\n",
        "\n",
        "val_ds = TeethDataset(VAL_IMG_DIR, VAL_MASK_DIR, transform=val_transform)\n",
        "val_loader = DataLoader(val_ds, batch_size=BATCH_SIZE, shuffle=False)"
      ],
      "metadata": {
        "id": "7Wlk1v5XGulL"
      },
      "execution_count": 24,
      "outputs": []
    },
    {
      "cell_type": "code",
      "source": [
        "# Make sure the TRAIN_IMG_DIR variable is defined as it is in your main script\n",
        "print(f\"Checking path: {TRAIN_IMG_DIR}\")\n",
        "\n",
        "# Check if the path exists and list its contents\n",
        "if os.path.exists(TRAIN_IMG_DIR):\n",
        "    print(\"Path exists.\")\n",
        "    file_list = os.listdir(TRAIN_IMG_DIR)\n",
        "    if not file_list:\n",
        "        print(\"The directory is empty!\")\n",
        "    else:\n",
        "        print(f\"Found {len(file_list)} items. Here are the first 5:\")\n",
        "        print(file_list[:5])\n",
        "else:\n",
        "    print(\"Error: The path does not exist!\")"
      ],
      "metadata": {
        "colab": {
          "base_uri": "https://localhost:8080/"
        },
        "id": "yweB5Hp_mL3g",
        "outputId": "99456dc7-dd32-40a0-91d7-60d471ff0b15"
      },
      "execution_count": 8,
      "outputs": [
        {
          "output_type": "stream",
          "name": "stdout",
          "text": [
            "Checking path: /content/drive/MyDrive/AI Teeth/Dataset/Dentalai/train\n",
            "Path exists.\n",
            "Found 2 items. Here are the first 5:\n",
            "['img', 'ann']\n"
          ]
        }
      ]
    },
    {
      "cell_type": "code",
      "source": [
        "# --- Copy and Unzip Data for Fast I/O ---\n",
        "print(\"Copying datasets from Google Drive to local Colab disk...\")\n",
        "\n",
        "# Adjust this path if your .zip files are in a different location in your Drive\n",
        "DRIVE_ZIP_PATH_DATA = \"/content/drive/MyDrive/AI Teeth/Dataset/Dentalai-20250802T203630Z-1-001.zip\"\n",
        "DRIVE_ZIP_PATH_MASKS = \"/content/drive/MyDrive/AI Teeth/Dataset/processed_dataset-20250802T203733Z-1-001.zip\"\n",
        "\n",
        "!cp \"{DRIVE_ZIP_PATH_DATA}\" .\n",
        "!cp \"{DRIVE_ZIP_PATH_MASKS}\" .\n",
        "\n",
        "print(\"Unzipping files...\")\n",
        "# Unzip quietly to the local disk\n",
        "!unzip -q Dentalai-20250802T203630Z-1-001.zip\n",
        "!unzip -q processed_dataset-20250802T203733Z-1-001.zip\n",
        "\n",
        "print(\"Data setup complete! Ready for fast training.\")"
      ],
      "metadata": {
        "colab": {
          "base_uri": "https://localhost:8080/"
        },
        "id": "bPk3Na9smyYP",
        "outputId": "881c5b29-e8b5-4625-d3e4-afd98e077809"
      },
      "execution_count": 13,
      "outputs": [
        {
          "output_type": "stream",
          "name": "stdout",
          "text": [
            "Copying datasets from Google Drive to local Colab disk...\n",
            "Unzipping files...\n",
            "Data setup complete! Ready for fast training.\n"
          ]
        }
      ]
    },
    {
      "cell_type": "code",
      "source": [
        "import torch\n",
        "import torch.nn as nn\n",
        "import torch.optim as optim\n",
        "from tqdm import tqdm\n",
        "\n",
        "# --- Hyperparameters & Setup ---\n",
        "LEARNING_RATE = 1e-4\n",
        "DEVICE = \"cuda\" if torch.cuda.is_available() else \"cpu\"\n",
        "BATCH_SIZE = 8 # Make sure this is the same as in your data loader setup\n",
        "NUM_EPOCHS = 10 # Start with a smaller number, you can increase later\n",
        "IMAGE_HEIGHT = 256 # Make sure this is the same as in your data loader setup\n",
        "IMAGE_WIDTH = 256 # Make sure this is the same as in your data loader setup\n",
        "\n",
        "# The path to save your trained model\n",
        "MODEL_SAVE_PATH = \"/content/drive/MyDrive/AI Teeth/unet_teeth_v1.pth\"\n",
        "\n",
        "\n",
        "# --- Loss Function ---\n",
        "# A combination of BCE and Dice Loss is very effective for segmentation\n",
        "class DiceLoss(nn.Module):\n",
        "    def __init__(self, weight=None, size_average=True):\n",
        "        super(DiceLoss, self).__init__()\n",
        "\n",
        "    def forward(self, inputs, targets, smooth=1):\n",
        "        inputs = torch.sigmoid(inputs)\n",
        "        inputs = inputs.view(-1)\n",
        "        targets = targets.view(-1)\n",
        "        intersection = (inputs * targets).sum()\n",
        "        dice = (2.*intersection + smooth)/(inputs.sum() + targets.sum() + smooth)\n",
        "        return 1 - dice\n",
        "\n",
        "# --- Validation Function ---\n",
        "def check_accuracy(loader, model, device=\"cuda\"):\n",
        "    num_correct = 0\n",
        "    num_pixels = 0\n",
        "    dice_score = 0\n",
        "    model.eval() # Set model to evaluation mode\n",
        "\n",
        "    with torch.no_grad():\n",
        "        for x, y in loader:\n",
        "            x = x.to(device)\n",
        "            y = y.to(device)\n",
        "\n",
        "            preds = torch.sigmoid(model(x))\n",
        "            preds = (preds > 0.5).float()\n",
        "\n",
        "            num_correct += (preds == y).sum()\n",
        "            num_pixels += torch.numel(preds)\n",
        "\n",
        "            dice_score += (2 * (preds * y).sum()) / ((preds + y).sum() + 1e-8)\n",
        "\n",
        "    accuracy = num_correct / num_pixels * 100\n",
        "    avg_dice_score = dice_score / len(loader)\n",
        "\n",
        "    print(f\"Validation Accuracy: {accuracy:.2f}%\")\n",
        "    print(f\"Validation Dice Score: {avg_dice_score:.4f}\")\n",
        "\n",
        "    model.train() # Set model back to training mode\n",
        "    return avg_dice_score\n",
        "\n",
        "# --- Training Function ---\n",
        "def train_fn(loader, model, optimizer, loss_fn_bce, loss_fn_dice):\n",
        "    loop = tqdm(loader)\n",
        "\n",
        "    for batch_idx, (data, targets) in enumerate(loop):\n",
        "        data = data.to(device=DEVICE)\n",
        "        targets = targets.to(device=DEVICE)\n",
        "\n",
        "        # Forward pass\n",
        "        predictions = model(data)\n",
        "        loss_bce = loss_fn_bce(predictions, targets)\n",
        "        loss_dice = loss_fn_dice(predictions, targets)\n",
        "        loss = loss_bce + loss_dice # Combine the two losses\n",
        "\n",
        "        # Backward pass and optimization\n",
        "        optimizer.zero_grad()\n",
        "        loss.backward()\n",
        "        optimizer.step()\n",
        "\n",
        "        # Update tqdm loop description\n",
        "        loop.set_postfix(loss=loss.item())\n",
        "\n",
        "# --- Main Execution ---\n",
        "def main():\n",
        "    model = UNET(in_channels=3, out_channels=1).to(DEVICE)\n",
        "    loss_fn_bce = nn.BCEWithLogitsLoss() # More stable than standard BCE\n",
        "    loss_fn_dice = DiceLoss()\n",
        "    optimizer = optim.Adam(model.parameters(), lr=LEARNING_RATE)\n",
        "\n",
        "    best_dice_score = -1.0\n",
        "\n",
        "    for epoch in range(NUM_EPOCHS):\n",
        "        print(f\"\\n--- Epoch {epoch+1}/{NUM_EPOCHS} ---\")\n",
        "        train_fn(train_loader, model, optimizer, loss_fn_bce, loss_fn_dice)\n",
        "\n",
        "        # Check accuracy and get dice score on validation set\n",
        "        current_dice_score = check_accuracy(val_loader, model, device=DEVICE)\n",
        "\n",
        "        # Save the model if it has the best dice score so far\n",
        "        if current_dice_score > best_dice_score:\n",
        "            best_dice_score = current_dice_score\n",
        "            torch.save(model.state_dict(), MODEL_SAVE_PATH)\n",
        "            print(f\"==> New best model saved with Dice Score: {best_dice_score:.4f}\")\n",
        "\n",
        "# Run the training process\n",
        "main()"
      ],
      "metadata": {
        "colab": {
          "base_uri": "https://localhost:8080/"
        },
        "id": "r8ThnUugZ2e0",
        "outputId": "56bb157d-16c9-4b68-9616-9403f1f5e692"
      },
      "execution_count": 26,
      "outputs": [
        {
          "output_type": "stream",
          "name": "stdout",
          "text": [
            "\n",
            "--- Epoch 1/10 ---\n"
          ]
        },
        {
          "output_type": "stream",
          "name": "stderr",
          "text": [
            "100%|██████████| 249/249 [06:02<00:00,  1.46s/it, loss=0.472]\n"
          ]
        },
        {
          "output_type": "stream",
          "name": "stdout",
          "text": [
            "Validation Accuracy: 88.80%\n",
            "Validation Dice Score: 0.7562\n",
            "==> New best model saved with Dice Score: 0.7562\n",
            "\n",
            "--- Epoch 2/10 ---\n"
          ]
        },
        {
          "output_type": "stream",
          "name": "stderr",
          "text": [
            "100%|██████████| 249/249 [06:01<00:00,  1.45s/it, loss=0.519]\n"
          ]
        },
        {
          "output_type": "stream",
          "name": "stdout",
          "text": [
            "Validation Accuracy: 93.05%\n",
            "Validation Dice Score: 0.8385\n",
            "==> New best model saved with Dice Score: 0.8385\n",
            "\n",
            "--- Epoch 3/10 ---\n"
          ]
        },
        {
          "output_type": "stream",
          "name": "stderr",
          "text": [
            "100%|██████████| 249/249 [05:59<00:00,  1.45s/it, loss=0.304]\n"
          ]
        },
        {
          "output_type": "stream",
          "name": "stdout",
          "text": [
            "Validation Accuracy: 93.17%\n",
            "Validation Dice Score: 0.8487\n",
            "==> New best model saved with Dice Score: 0.8487\n",
            "\n",
            "--- Epoch 4/10 ---\n"
          ]
        },
        {
          "output_type": "stream",
          "name": "stderr",
          "text": [
            "100%|██████████| 249/249 [06:08<00:00,  1.48s/it, loss=0.291]\n"
          ]
        },
        {
          "output_type": "stream",
          "name": "stdout",
          "text": [
            "Validation Accuracy: 94.18%\n",
            "Validation Dice Score: 0.8686\n",
            "==> New best model saved with Dice Score: 0.8686\n",
            "\n",
            "--- Epoch 5/10 ---\n"
          ]
        },
        {
          "output_type": "stream",
          "name": "stderr",
          "text": [
            "100%|██████████| 249/249 [06:08<00:00,  1.48s/it, loss=0.243]\n"
          ]
        },
        {
          "output_type": "stream",
          "name": "stdout",
          "text": [
            "Validation Accuracy: 94.50%\n",
            "Validation Dice Score: 0.8764\n",
            "==> New best model saved with Dice Score: 0.8764\n",
            "\n",
            "--- Epoch 6/10 ---\n"
          ]
        },
        {
          "output_type": "stream",
          "name": "stderr",
          "text": [
            "100%|██████████| 249/249 [06:08<00:00,  1.48s/it, loss=0.233]\n"
          ]
        },
        {
          "output_type": "stream",
          "name": "stdout",
          "text": [
            "Validation Accuracy: 94.46%\n",
            "Validation Dice Score: 0.8733\n",
            "\n",
            "--- Epoch 7/10 ---\n"
          ]
        },
        {
          "output_type": "stream",
          "name": "stderr",
          "text": [
            "100%|██████████| 249/249 [06:09<00:00,  1.48s/it, loss=0.253]\n"
          ]
        },
        {
          "output_type": "stream",
          "name": "stdout",
          "text": [
            "Validation Accuracy: 94.98%\n",
            "Validation Dice Score: 0.8851\n",
            "==> New best model saved with Dice Score: 0.8851\n",
            "\n",
            "--- Epoch 8/10 ---\n"
          ]
        },
        {
          "output_type": "stream",
          "name": "stderr",
          "text": [
            "100%|██████████| 249/249 [06:09<00:00,  1.49s/it, loss=0.372]\n"
          ]
        },
        {
          "output_type": "stream",
          "name": "stdout",
          "text": [
            "Validation Accuracy: 95.38%\n",
            "Validation Dice Score: 0.8940\n",
            "==> New best model saved with Dice Score: 0.8940\n",
            "\n",
            "--- Epoch 9/10 ---\n"
          ]
        },
        {
          "output_type": "stream",
          "name": "stderr",
          "text": [
            "100%|██████████| 249/249 [06:07<00:00,  1.48s/it, loss=0.208]\n"
          ]
        },
        {
          "output_type": "stream",
          "name": "stdout",
          "text": [
            "Validation Accuracy: 95.62%\n",
            "Validation Dice Score: 0.8995\n",
            "==> New best model saved with Dice Score: 0.8995\n",
            "\n",
            "--- Epoch 10/10 ---\n"
          ]
        },
        {
          "output_type": "stream",
          "name": "stderr",
          "text": [
            "100%|██████████| 249/249 [06:08<00:00,  1.48s/it, loss=0.187]\n"
          ]
        },
        {
          "output_type": "stream",
          "name": "stdout",
          "text": [
            "Validation Accuracy: 95.74%\n",
            "Validation Dice Score: 0.9016\n",
            "==> New best model saved with Dice Score: 0.9016\n"
          ]
        }
      ]
    }
  ]
}